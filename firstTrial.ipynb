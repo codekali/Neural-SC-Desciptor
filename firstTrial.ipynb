{
  "nbformat": 4,
  "nbformat_minor": 0,
  "metadata": {
    "accelerator": "GPU",
    "colab": {
      "name": "firstTrial.ipynb",
      "provenance": [],
      "collapsed_sections": [],
      "include_colab_link": true
    },
    "kernelspec": {
      "display_name": "Python 3",
      "language": "python",
      "name": "python3"
    },
    "language_info": {
      "codemirror_mode": {
        "name": "ipython",
        "version": 3
      },
      "file_extension": ".py",
      "mimetype": "text/x-python",
      "name": "python",
      "nbconvert_exporter": "python",
      "pygments_lexer": "ipython3",
      "version": "3.8.2"
    }
  },
  "cells": [
    {
      "cell_type": "markdown",
      "metadata": {
        "id": "view-in-github",
        "colab_type": "text"
      },
      "source": [
        "<a href=\"https://colab.research.google.com/github/codekali/Neural-SC-Desciptor/blob/master/firstTrial.ipynb\" target=\"_parent\"><img src=\"https://colab.research.google.com/assets/colab-badge.svg\" alt=\"Open In Colab\"/></a>"
      ]
    },
    {
      "cell_type": "code",
      "metadata": {
        "colab_type": "code",
        "id": "Gcmj8Cb9a4aN",
        "colab": {
          "base_uri": "https://localhost:8080/",
          "height": 51
        },
        "outputId": "6114c251-dc93-4862-c8d4-2598c8f7f60a"
      },
      "source": [
        "import torch\n",
        "import json\n",
        "from torch.utils.data import Dataset\n",
        "dictionary={}\n",
        "X,Y = [],[]\n",
        "count=-1   \n",
        "file=open(\"/content/drive/My Drive/Transformer/train/train.token.sbt\")\n",
        "for line in file:\n",
        "  X.append(line)\n",
        "  count+=1\n",
        "count=0\n",
        "file=open(\"/content/drive/My Drive/Transformer/train/train.token.nl\")\n",
        "for line in file:\n",
        "  Y.append(line)\n",
        "  count+=1\n",
        "print(len(Y))\n",
        "print(len(X))\n",
        "X=X[0:100]\n",
        "Y=Y[0:100]"
      ],
      "execution_count": 51,
      "outputs": [
        {
          "output_type": "stream",
          "text": [
            "445812\n",
            "445812\n"
          ],
          "name": "stdout"
        }
      ]
    },
    {
      "cell_type": "code",
      "metadata": {
        "colab_type": "code",
        "id": "LSCj9GE0EDLy",
        "colab": {
          "base_uri": "https://localhost:8080/",
          "height": 51
        },
        "outputId": "e5634628-50a8-47e8-a530-2f7521bf5ea2"
      },
      "source": [
        "# You can even put this data load operation in your Dataset class\n",
        "import torch\n",
        "import json\n",
        "from torch.utils.data import Dataset\n",
        "dictionary={}\n",
        "X_valid,Y_valid = [],[]\n",
        "count=-1   \n",
        "file=open(\"/content/drive/My Drive/Transformer/val/valid.token.sbt\")\n",
        "for line in file:\n",
        "  X_valid.append(line)\n",
        "  count+=1\n",
        "count=0\n",
        "file=open(\"/content/drive/My Drive/Transformer/val/valid.token.nl\")\n",
        "for line in file:\n",
        "  Y_valid.append(line)\n",
        "  count+=1\n",
        "print(len(Y_valid))\n",
        "print(len(X_valid))\n",
        "X_valid=X_valid[0:20]\n",
        "Y_valid=Y_valid[0:20]"
      ],
      "execution_count": 52,
      "outputs": [
        {
          "output_type": "stream",
          "text": [
            "20000\n",
            "20000\n"
          ],
          "name": "stdout"
        }
      ]
    },
    {
      "cell_type": "code",
      "metadata": {
        "colab_type": "code",
        "id": "E65v5JOxdj99",
        "colab": {}
      },
      "source": [
        "print(len(Y))\n",
        "print(len(X))"
      ],
      "execution_count": 0,
      "outputs": []
    },
    {
      "cell_type": "code",
      "metadata": {
        "colab_type": "code",
        "id": "2swvO7qqbAb6",
        "colab": {}
      },
      "source": [
        "import torch\n",
        "from torch.utils import data\n",
        "\n",
        "class Dataset(data.Dataset):\n",
        "  def __init__(self, X_item, Y_item):\n",
        "    self.X_item=X_item\n",
        "    self.Y_item=Y_item\n",
        "\n",
        "  def __len__(self):\n",
        "    return len(self.X_item)\n",
        "\n",
        "  def __getitem__(self, index):\n",
        "    X = self.X_item[index]\n",
        "    \n",
        "    Y = self.Y_item[index]\n",
        "    return X, Y"
      ],
      "execution_count": 0,
      "outputs": []
    },
    {
      "cell_type": "code",
      "metadata": {
        "colab_type": "code",
        "id": "4jFm-_ywbY7z",
        "colab": {
          "base_uri": "https://localhost:8080/",
          "height": 34
        },
        "outputId": "b8d1e8b3-3703-455a-cd72-21a79712665c"
      },
      "source": [
        "#import mydata\n",
        "import torch\n",
        "from torch.utils import data\n",
        "use_cuda = torch.cuda.is_available()\n",
        "device = torch.device(\"cuda\" if use_cuda else \"cpu\")\n",
        "print(device)\n",
        "params = {'batch_size': 5,\n",
        "          'shuffle': True,\n",
        "          'num_workers': 6}\n",
        "max_epochs = 10\n",
        "\n",
        "training_set = Dataset(X,Y)\n",
        "training_generator = data.DataLoader(training_set, **params)\n",
        "\n",
        "validation_set = Dataset(X_valid,Y_valid)\n",
        "validation_generator = data.DataLoader(validation_set, **params)"
      ],
      "execution_count": 54,
      "outputs": [
        {
          "output_type": "stream",
          "text": [
            "cuda\n"
          ],
          "name": "stdout"
        }
      ]
    },
    {
      "cell_type": "code",
      "metadata": {
        "colab_type": "code",
        "id": "7LgliBxibZKp",
        "colab": {}
      },
      "source": [
        "!pip install transformers"
      ],
      "execution_count": 0,
      "outputs": []
    },
    {
      "cell_type": "code",
      "metadata": {
        "colab_type": "code",
        "id": "6zQaAWNlcBK-",
        "outputId": "3633c9d3-d2ac-4111-d632-8cb6b897b767",
        "colab": {
          "base_uri": "https://localhost:8080/",
          "height": 1000
        }
      },
      "source": [
        "from transformers import T5Tokenizer, T5ForConditionalGeneration\n",
        "import torch.optim as optim\n",
        "import matplotlib.pyplot as plt\n",
        "\n",
        "tokenizer = T5Tokenizer.from_pretrained('t5-small')\n",
        "model = T5ForConditionalGeneration.from_pretrained('t5-small')\n",
        "model = model.to(device)\n",
        "# optimizer should be defined outside training loop\n",
        "optimizer = optim.SGD(model.parameters(), lr=0.01)\n",
        "loss_train = []\n",
        "loss_valid = []\n",
        "\n",
        "for epoch in range(50):\n",
        "    trainloss=0\n",
        "    validloss=0\n",
        "    # Training\n",
        "    for local_batch, local_labels in training_generator: \n",
        "        optimizer.zero_grad()\n",
        "        \"\"\"Forward Function Implementation\"\"\"\n",
        "        # Also, put the encode function in dataset. Return encoded matrix values from dataset. Here, only take it to gpu.\n",
        "        input_ids = tokenizer.batch_encode_plus(local_batch, return_tensors=\"pt\",pad_to_max_length=True)\n",
        "        label = tokenizer.batch_encode_plus(local_labels, return_tensors=\"pt\",pad_to_max_length=True)\n",
        "        outputs = model(input_ids=(input_ids['input_ids']).to(device), lm_labels=(label['input_ids']).to(device),attention_mask=(input_ids['attention_mask']).to(device))\n",
        "        loss, prediction_scores = outputs[:2]\n",
        "        trainloss=loss\n",
        "        \"\"\"Forward Function Ends here\"\"\"\n",
        "        \"\"\"Loss and optimizer\"\"\"\n",
        "        loss.backward()\n",
        "        optimizer.step()\n",
        "    loss_train.append(trainloss)\n",
        "\n",
        "\n",
        "    \"\"\"Validation\"\"\"\n",
        "    with torch.set_grad_enabled(False):\n",
        "        for local_batch, local_labels in validation_generator:\n",
        "          input_ids = tokenizer.batch_encode_plus(local_batch, return_tensors=\"pt\",pad_to_max_length=True)\n",
        "          label = tokenizer.batch_encode_plus(local_labels, return_tensors=\"pt\",pad_to_max_length=True)\n",
        "          model.eval()\n",
        "          outputs = model(input_ids=(input_ids['input_ids']).to(device), lm_labels=(label['input_ids']).to(device))\n",
        "          loss, prediction_scores = outputs[:2]\n",
        "          validloss=loss\n",
        "    loss_valid.append(validloss)\n",
        "    print(\"\\nEpoch \", epoch, \" completed!, Training LOSS is: \", trainloss, \" Validation loss is: \", validloss)\n",
        "plt.plot(loss_train)\n",
        "plt.plot(loss_valid)\n",
        "    #print(loss, \"\\n\\n\")\n"
      ],
      "execution_count": 56,
      "outputs": [
        {
          "output_type": "stream",
          "text": [
            "\n",
            "Epoch  0  completed!, Training LOSS is:  tensor(3.2990, device='cuda:0', grad_fn=<NllLossBackward>)  Validation loss is:  tensor(33.8064, device='cuda:0')\n",
            "\n",
            "Epoch  1  completed!, Training LOSS is:  tensor(4.0996, device='cuda:0', grad_fn=<NllLossBackward>)  Validation loss is:  tensor(38.8854, device='cuda:0')\n",
            "\n",
            "Epoch  2  completed!, Training LOSS is:  tensor(2.8176, device='cuda:0', grad_fn=<NllLossBackward>)  Validation loss is:  tensor(13.5292, device='cuda:0')\n",
            "\n",
            "Epoch  3  completed!, Training LOSS is:  tensor(3.5123, device='cuda:0', grad_fn=<NllLossBackward>)  Validation loss is:  tensor(18.1840, device='cuda:0')\n",
            "\n",
            "Epoch  4  completed!, Training LOSS is:  tensor(3.5333, device='cuda:0', grad_fn=<NllLossBackward>)  Validation loss is:  tensor(32.9379, device='cuda:0')\n",
            "\n",
            "Epoch  5  completed!, Training LOSS is:  tensor(2.5911, device='cuda:0', grad_fn=<NllLossBackward>)  Validation loss is:  tensor(18.0464, device='cuda:0')\n",
            "\n",
            "Epoch  6  completed!, Training LOSS is:  tensor(2.6745, device='cuda:0', grad_fn=<NllLossBackward>)  Validation loss is:  tensor(35.8887, device='cuda:0')\n",
            "\n",
            "Epoch  7  completed!, Training LOSS is:  tensor(2.6014, device='cuda:0', grad_fn=<NllLossBackward>)  Validation loss is:  tensor(22.7300, device='cuda:0')\n",
            "\n",
            "Epoch  8  completed!, Training LOSS is:  tensor(3.0323, device='cuda:0', grad_fn=<NllLossBackward>)  Validation loss is:  tensor(27.4018, device='cuda:0')\n",
            "\n",
            "Epoch  9  completed!, Training LOSS is:  tensor(3.2175, device='cuda:0', grad_fn=<NllLossBackward>)  Validation loss is:  tensor(26.7457, device='cuda:0')\n",
            "\n",
            "Epoch  10  completed!, Training LOSS is:  tensor(3.2945, device='cuda:0', grad_fn=<NllLossBackward>)  Validation loss is:  tensor(35.1803, device='cuda:0')\n",
            "\n",
            "Epoch  11  completed!, Training LOSS is:  tensor(2.5336, device='cuda:0', grad_fn=<NllLossBackward>)  Validation loss is:  tensor(26.8479, device='cuda:0')\n",
            "\n",
            "Epoch  12  completed!, Training LOSS is:  tensor(3.5238, device='cuda:0', grad_fn=<NllLossBackward>)  Validation loss is:  tensor(32.3007, device='cuda:0')\n",
            "\n",
            "Epoch  13  completed!, Training LOSS is:  tensor(2.4630, device='cuda:0', grad_fn=<NllLossBackward>)  Validation loss is:  tensor(39.4667, device='cuda:0')\n",
            "\n",
            "Epoch  14  completed!, Training LOSS is:  tensor(3.5892, device='cuda:0', grad_fn=<NllLossBackward>)  Validation loss is:  tensor(24.9855, device='cuda:0')\n",
            "\n",
            "Epoch  15  completed!, Training LOSS is:  tensor(2.5773, device='cuda:0', grad_fn=<NllLossBackward>)  Validation loss is:  tensor(26.4958, device='cuda:0')\n",
            "\n",
            "Epoch  16  completed!, Training LOSS is:  tensor(2.1221, device='cuda:0', grad_fn=<NllLossBackward>)  Validation loss is:  tensor(48.8534, device='cuda:0')\n",
            "\n",
            "Epoch  17  completed!, Training LOSS is:  tensor(3.3648, device='cuda:0', grad_fn=<NllLossBackward>)  Validation loss is:  tensor(40.7692, device='cuda:0')\n",
            "\n",
            "Epoch  18  completed!, Training LOSS is:  tensor(2.6696, device='cuda:0', grad_fn=<NllLossBackward>)  Validation loss is:  tensor(35.9252, device='cuda:0')\n",
            "\n",
            "Epoch  19  completed!, Training LOSS is:  tensor(2.3081, device='cuda:0', grad_fn=<NllLossBackward>)  Validation loss is:  tensor(30.9514, device='cuda:0')\n",
            "\n",
            "Epoch  20  completed!, Training LOSS is:  tensor(1.6755, device='cuda:0', grad_fn=<NllLossBackward>)  Validation loss is:  tensor(30.9932, device='cuda:0')\n",
            "\n",
            "Epoch  21  completed!, Training LOSS is:  tensor(2.9550, device='cuda:0', grad_fn=<NllLossBackward>)  Validation loss is:  tensor(47.9949, device='cuda:0')\n",
            "\n",
            "Epoch  22  completed!, Training LOSS is:  tensor(3.1115, device='cuda:0', grad_fn=<NllLossBackward>)  Validation loss is:  tensor(60.2404, device='cuda:0')\n",
            "\n",
            "Epoch  23  completed!, Training LOSS is:  tensor(2.0752, device='cuda:0', grad_fn=<NllLossBackward>)  Validation loss is:  tensor(24.2179, device='cuda:0')\n",
            "\n",
            "Epoch  24  completed!, Training LOSS is:  tensor(2.6061, device='cuda:0', grad_fn=<NllLossBackward>)  Validation loss is:  tensor(37.5002, device='cuda:0')\n",
            "\n",
            "Epoch  25  completed!, Training LOSS is:  tensor(2.0007, device='cuda:0', grad_fn=<NllLossBackward>)  Validation loss is:  tensor(41.3933, device='cuda:0')\n",
            "\n",
            "Epoch  26  completed!, Training LOSS is:  tensor(2.6643, device='cuda:0', grad_fn=<NllLossBackward>)  Validation loss is:  tensor(61.8447, device='cuda:0')\n",
            "\n",
            "Epoch  27  completed!, Training LOSS is:  tensor(2.1630, device='cuda:0', grad_fn=<NllLossBackward>)  Validation loss is:  tensor(47.1583, device='cuda:0')\n",
            "\n",
            "Epoch  28  completed!, Training LOSS is:  tensor(3.1927, device='cuda:0', grad_fn=<NllLossBackward>)  Validation loss is:  tensor(49.6087, device='cuda:0')\n",
            "\n",
            "Epoch  29  completed!, Training LOSS is:  tensor(2.5440, device='cuda:0', grad_fn=<NllLossBackward>)  Validation loss is:  tensor(46.4841, device='cuda:0')\n",
            "\n",
            "Epoch  30  completed!, Training LOSS is:  tensor(2.1557, device='cuda:0', grad_fn=<NllLossBackward>)  Validation loss is:  tensor(53.1847, device='cuda:0')\n",
            "\n",
            "Epoch  31  completed!, Training LOSS is:  tensor(2.3262, device='cuda:0', grad_fn=<NllLossBackward>)  Validation loss is:  tensor(57.8831, device='cuda:0')\n",
            "\n",
            "Epoch  32  completed!, Training LOSS is:  tensor(2.5160, device='cuda:0', grad_fn=<NllLossBackward>)  Validation loss is:  tensor(59.6778, device='cuda:0')\n",
            "\n",
            "Epoch  33  completed!, Training LOSS is:  tensor(1.7574, device='cuda:0', grad_fn=<NllLossBackward>)  Validation loss is:  tensor(53.0482, device='cuda:0')\n",
            "\n",
            "Epoch  34  completed!, Training LOSS is:  tensor(2.2347, device='cuda:0', grad_fn=<NllLossBackward>)  Validation loss is:  tensor(56.4339, device='cuda:0')\n",
            "\n",
            "Epoch  35  completed!, Training LOSS is:  tensor(2.3974, device='cuda:0', grad_fn=<NllLossBackward>)  Validation loss is:  tensor(44.5233, device='cuda:0')\n",
            "\n",
            "Epoch  36  completed!, Training LOSS is:  tensor(2.0578, device='cuda:0', grad_fn=<NllLossBackward>)  Validation loss is:  tensor(54.4339, device='cuda:0')\n",
            "\n",
            "Epoch  37  completed!, Training LOSS is:  tensor(1.7530, device='cuda:0', grad_fn=<NllLossBackward>)  Validation loss is:  tensor(59.8830, device='cuda:0')\n",
            "\n",
            "Epoch  38  completed!, Training LOSS is:  tensor(1.9004, device='cuda:0', grad_fn=<NllLossBackward>)  Validation loss is:  tensor(45.2562, device='cuda:0')\n",
            "\n",
            "Epoch  39  completed!, Training LOSS is:  tensor(2.2293, device='cuda:0', grad_fn=<NllLossBackward>)  Validation loss is:  tensor(46.8483, device='cuda:0')\n",
            "\n",
            "Epoch  40  completed!, Training LOSS is:  tensor(1.7948, device='cuda:0', grad_fn=<NllLossBackward>)  Validation loss is:  tensor(53.4801, device='cuda:0')\n",
            "\n",
            "Epoch  41  completed!, Training LOSS is:  tensor(2.2564, device='cuda:0', grad_fn=<NllLossBackward>)  Validation loss is:  tensor(45.6873, device='cuda:0')\n",
            "\n",
            "Epoch  42  completed!, Training LOSS is:  tensor(1.4762, device='cuda:0', grad_fn=<NllLossBackward>)  Validation loss is:  tensor(57.5059, device='cuda:0')\n",
            "\n",
            "Epoch  43  completed!, Training LOSS is:  tensor(1.8475, device='cuda:0', grad_fn=<NllLossBackward>)  Validation loss is:  tensor(50.1445, device='cuda:0')\n",
            "\n",
            "Epoch  44  completed!, Training LOSS is:  tensor(2.1584, device='cuda:0', grad_fn=<NllLossBackward>)  Validation loss is:  tensor(56.4393, device='cuda:0')\n",
            "\n",
            "Epoch  45  completed!, Training LOSS is:  tensor(1.7562, device='cuda:0', grad_fn=<NllLossBackward>)  Validation loss is:  tensor(49.6157, device='cuda:0')\n",
            "\n",
            "Epoch  46  completed!, Training LOSS is:  tensor(3.2476, device='cuda:0', grad_fn=<NllLossBackward>)  Validation loss is:  tensor(11.0171, device='cuda:0')\n",
            "\n",
            "Epoch  47  completed!, Training LOSS is:  tensor(2.0269, device='cuda:0', grad_fn=<NllLossBackward>)  Validation loss is:  tensor(28.3715, device='cuda:0')\n",
            "\n",
            "Epoch  48  completed!, Training LOSS is:  tensor(1.7869, device='cuda:0', grad_fn=<NllLossBackward>)  Validation loss is:  tensor(34.9047, device='cuda:0')\n",
            "\n",
            "Epoch  49  completed!, Training LOSS is:  tensor(1.3926, device='cuda:0', grad_fn=<NllLossBackward>)  Validation loss is:  tensor(51.6380, device='cuda:0')\n"
          ],
          "name": "stdout"
        },
        {
          "output_type": "execute_result",
          "data": {
            "text/plain": [
              "[<matplotlib.lines.Line2D at 0x7fb759af7908>]"
            ]
          },
          "metadata": {
            "tags": []
          },
          "execution_count": 56
        },
        {
          "output_type": "display_data",
          "data": {
            "image/png": "[encoded data removed]",
            "text/plain": [
              "<Figure size 432x288 with 1 Axes>"
            ]
          },
          "metadata": {
            "tags": [],
            "needs_background": "light"
          }
        }
      ]
    },
    {
      "cell_type": "code",
      "metadata": {
        "id": "1Q5Y0eA2_bnH",
        "colab_type": "code",
        "colab": {
          "base_uri": "https://localhost:8080/",
          "height": 122
        },
        "outputId": "9ad413b6-d225-40f1-8915-a687ac2882b4"
      },
      "source": [
        "from google.colab import drive\n",
        "drive.mount('/content/drive')"
      ],
      "execution_count": 3,
      "outputs": [
        {
          "output_type": "stream",
          "text": [
            "Go to this URL in a browser: https://accounts.google.com/o/oauth2/auth?client_id=947318989803-6bn6qk8qdgf4n4g3pfee6491hc0brc4i.apps.googleusercontent.com&redirect_uri=urn%3aietf%3awg%3aoauth%3a2.0%3aoob&response_type=code&scope=email%20https%3a%2f%2fwww.googleapis.com%2fauth%2fdocs.test%20https%3a%2f%2fwww.googleapis.com%2fauth%2fdrive%20https%3a%2f%2fwww.googleapis.com%2fauth%2fdrive.photos.readonly%20https%3a%2f%2fwww.googleapis.com%2fauth%2fpeopleapi.readonly\n",
            "\n",
            "Enter your authorization code:\n",
            "··········\n",
            "Mounted at /content/drive\n"
          ],
          "name": "stdout"
        }
      ]
    },
    {
      "cell_type": "code",
      "metadata": {
        "colab_type": "code",
        "id": "VMdN-HAVDuGm",
        "colab": {}
      },
      "source": [
        " model.eval()"
      ],
      "execution_count": 0,
      "outputs": []
    },
    {
      "cell_type": "code",
      "metadata": {
        "id": "pVOZGflPBMIk",
        "colab_type": "code",
        "colab": {
          "base_uri": "https://localhost:8080/",
          "height": 102
        },
        "outputId": "a953e9a2-68e9-48b4-a740-60782d11a4a3"
      },
      "source": [
        "temp_index=50 \n",
        "ip=tokenizer.encode(X[temp_index], return_tensors=\"pt\")\n",
        "op=model.generate(input_ids=ip.to(device))\n",
        "print(tokenizer.decode(op[0]))\n",
        "print(X[temp_index])\n",
        "print(Y[temp_index])"
      ],
      "execution_count": 59,
      "outputs": [
        {
          "output_type": "stream",
          "text": [
            "creates an instance of the factory.\n",
            "( ConstructorDeclaration ( StatementExpression ( SuperConstructorInvocation ) SuperConstructorInvocation ) StatementExpression ) ConstructorDeclaration\n",
            "\n",
            "creates an instance of the factory .\n",
            "\n"
          ],
          "name": "stdout"
        }
      ]
    },
    {
      "cell_type": "code",
      "metadata": {
        "colab_type": "code",
        "id": "oXLsw4qsNmPq",
        "colab": {}
      },
      "source": [
        "from datetime import datetime as dt\n",
        "runtime =  dt.now()\n",
        "model_name = \"/content/drive/My Drive/Transformer/models/\" + runtime.strftime(\"%d:%m:%Y:%H:%M\") + \".pth\"\n",
        "\n",
        "torch.save(model.state_dict(), model_name)"
      ],
      "execution_count": 0,
      "outputs": []
    }
  ]
}