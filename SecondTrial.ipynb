{
  "nbformat": 4,
  "nbformat_minor": 0,
  "metadata": {
    "accelerator": "GPU",
    "colab": {
      "name": "SecondTrial.ipynb",
      "provenance": [],
      "collapsed_sections": [],
      "include_colab_link": true
    },
    "kernelspec": {
      "display_name": "Python 3",
      "language": "python",
      "name": "python3"
    },
    "language_info": {
      "codemirror_mode": {
        "name": "ipython",
        "version": 3
      },
      "file_extension": ".py",
      "mimetype": "text/x-python",
      "name": "python",
      "nbconvert_exporter": "python",
      "pygments_lexer": "ipython3",
      "version": "3.7.4"
    }
  },
  "cells": [
    {
      "cell_type": "markdown",
      "metadata": {
        "id": "view-in-github",
        "colab_type": "text"
      },
      "source": [
        "<a href=\"https://colab.research.google.com/github/codekali/Neural-SC-Descriptor/blob/master/SecondTrial.ipynb\" target=\"_parent\"><img src=\"https://colab.research.google.com/assets/colab-badge.svg\" alt=\"Open In Colab\"/></a>"
      ]
    },
    {
      "cell_type": "markdown",
      "metadata": {
        "id": "yDBdn2opxHt-",
        "colab_type": "text"
      },
      "source": [
        "#  Mount google drive, install dependencies and import required packages"
      ]
    },
    {
      "cell_type": "code",
      "metadata": {
        "colab_type": "code",
        "id": "1Q5Y0eA2_bnH",
        "colab": {}
      },
      "source": [
        "from google.colab import drive\n",
        "drive.mount('/content/drive/')\n",
        "%cd '/content/drive/My Drive/Transformer/'"
      ],
      "execution_count": 0,
      "outputs": []
    },
    {
      "cell_type": "code",
      "metadata": {
        "id": "tg0bJtSNtnoE",
        "colab_type": "code",
        "colab": {}
      },
      "source": [
        "# Install transformers\n",
        "!pip install transformers\n",
        "!pip install pytorch-lightning"
      ],
      "execution_count": 0,
      "outputs": []
    },
    {
      "cell_type": "code",
      "metadata": {
        "colab_type": "code",
        "id": "Gcmj8Cb9a4aN",
        "colab": {}
      },
      "source": [
        "import torch\n",
        "import torch.optim as optim\n",
        "import os.path\n",
        "from os import path\n",
        "from pytorch_lightning import Trainer\n",
        "from pytorch_lightning.callbacks import EarlyStopping\n",
        "import matplotlib.pyplot as plt\n",
        "from torch.utils import data\n",
        "from torch.utils.data import Dataset\n",
        "from tqdm.notebook import tqdm\n",
        "from src import utils\n",
        "from transformers import T5Tokenizer, T5ForConditionalGeneration\n",
        "\n",
        "model_path = \"models/checkpoint.pth\""
      ],
      "execution_count": 0,
      "outputs": []
    },
    {
      "cell_type": "markdown",
      "metadata": {
        "id": "d2lsWm2Pw6cI",
        "colab_type": "text"
      },
      "source": [
        "# Retrieve training and validation data from google drive"
      ]
    },
    {
      "cell_type": "code",
      "metadata": {
        "id": "AGQUVElitnoj",
        "colab_type": "code",
        "colab": {}
      },
      "source": [
        "X_train,Y_train = [],[]  \n",
        "file=open(\"train/train.token.sbt\")\n",
        "for line in file:\n",
        "  X_train.append(line)\n",
        "file=open(\"train/train.token.nl\")\n",
        "for line in file:\n",
        "  Y_train.append(line)\n",
        "l=int(len(X_train)/3)\n",
        "X_train = X_train[0:l]\n",
        "Y_train = Y_train[0:l]"
      ],
      "execution_count": 0,
      "outputs": []
    },
    {
      "cell_type": "code",
      "metadata": {
        "colab_type": "code",
        "id": "LSCj9GE0EDLy",
        "colab": {}
      },
      "source": [
        "X_valid,Y_valid = [],[]\n",
        "file=open(\"val/valid.token.sbt\")\n",
        "for line in file:\n",
        "  X_valid.append(line)\n",
        "file=open(\"val/valid.token.nl\")\n",
        "for line in file:\n",
        "  Y_valid.append(line)\n",
        "l=int(len(X_valid)/3)\n",
        "X_valid = X_valid[0:l]\n",
        "Y_valid = Y_valid[0:l]"
      ],
      "execution_count": 0,
      "outputs": []
    },
    {
      "cell_type": "markdown",
      "metadata": {
        "id": "IoTVEU8JxZEP",
        "colab_type": "text"
      },
      "source": [
        "# Dataset Class to load data while training and validation"
      ]
    },
    {
      "cell_type": "code",
      "metadata": {
        "colab_type": "code",
        "id": "2swvO7qqbAb6",
        "colab": {}
      },
      "source": [
        "class Dataset(data.Dataset):\n",
        "  def __init__(self, X_item, Y_item):\n",
        "    self.X_item=X_item\n",
        "    self.Y_item=Y_item\n",
        "\n",
        "  def __len__(self):\n",
        "    return len(self.X_item)\n",
        "\n",
        "  def __getitem__(self, index):\n",
        "    X = self.X_item[index]\n",
        "    \n",
        "    Y = self.Y_item[index]\n",
        "    return X, Y"
      ],
      "execution_count": 0,
      "outputs": []
    },
    {
      "cell_type": "markdown",
      "metadata": {
        "id": "I5eMChy8xr2n",
        "colab_type": "text"
      },
      "source": [
        "# Take GPU into action and define batch size and num of workers"
      ]
    },
    {
      "cell_type": "code",
      "metadata": {
        "colab_type": "code",
        "id": "4jFm-_ywbY7z",
        "colab": {}
      },
      "source": [
        "use_cuda = torch.cuda.is_available()\n",
        "device = torch.device(\"cuda\" if use_cuda else \"cpu\")\n",
        "print(\">>> \", device)\n",
        "params = {'batch_size': 6,\n",
        "          'shuffle': True,\n",
        "          'num_workers': 2}\n",
        "\n",
        "training_set = Dataset(X_train,Y_train)\n",
        "training_generator = data.DataLoader(training_set, **params)\n",
        "\n",
        "validation_set = Dataset(X_valid,Y_valid)\n",
        "validation_generator = data.DataLoader(validation_set, **params)\n",
        "\n",
        "num_epoch = 20"
      ],
      "execution_count": 0,
      "outputs": []
    },
    {
      "cell_type": "markdown",
      "metadata": {
        "id": "uGU5g3W7x_T1",
        "colab_type": "text"
      },
      "source": [
        "## Load tokenizer"
      ]
    },
    {
      "cell_type": "code",
      "metadata": {
        "colab_type": "code",
        "id": "14Qm-iHYJGM-",
        "scrolled": true,
        "colab": {}
      },
      "source": [
        "tokenizer = T5Tokenizer.from_pretrained('t5-small')"
      ],
      "execution_count": 0,
      "outputs": []
    },
    {
      "cell_type": "markdown",
      "metadata": {
        "id": "woUBiGfqyFOJ",
        "colab_type": "text"
      },
      "source": [
        "## Load model, optimizer, trainer, epoch no. and losses from a checkpoint directly or from the saved location."
      ]
    },
    {
      "cell_type": "code",
      "metadata": {
        "colab_type": "code",
        "id": "VScZuyPaJGNF",
        "colab": {}
      },
      "source": [
        "if path.exists(model_path):\n",
        "\n",
        "  #load saved model from the drive\n",
        "  checkpoint = torch.load(model_path)\n",
        "  epoch = checkpoint['epoch']\n",
        "  model.load_state_dict(checkpoint['state_dict'])\n",
        "  optimizer.load_state_dict(checkpoint['optimizer'])\n",
        "  loss_train = checkpoint['trainloss']\n",
        "  loss_valid = checkpoint['validloss']\n",
        "  trainer = checkpoint['trainer']\n",
        "  print(\">>> loaded saved checkpoint from epoch \", epoch)\n",
        "  print(\">>> Saved model \")\n",
        "  model.eval()\n",
        "  model = model.to(device)\n",
        "\n",
        "else:\n",
        "\n",
        "  #load pre-trained model\n",
        "  model = T5ForConditionalGeneration.from_pretrained('t5-small')\n",
        "  model = model.to(device)\n",
        "\n",
        "  #load opptimizer\n",
        "  no_decay = [\"bias\", \"LayerNorm.bias\", \"LayerNorm.weight\"]\n",
        "  optimizer_grouped_parameters = []\n",
        "  lr=2e-5\n",
        "  for key, value in dict(model.named_parameters()).items():\n",
        "      if value.requires_grad:\n",
        "          if any(nd in key for nd in no_decay):\n",
        "              optimizer_grouped_parameters += [\n",
        "                  {\"params\": [value], \"lr\": lr, \"weight_decay\": 0.01}\n",
        "              ]\n",
        "          if not any(nd in key for nd in no_decay):\n",
        "              optimizer_grouped_parameters += [\n",
        "                  {\"params\": [value], \"lr\": lr, \"weight_decay\": 0.0}\n",
        "              ]\n",
        "                  \n",
        "  optimizer = utils.BertAdam(\n",
        "              optimizer_grouped_parameters,\n",
        "              lr=lr,\n",
        "              warmup=0.1,\n",
        "              t_total=100,\n",
        "              schedule='warmup_constant',\n",
        "          )\n",
        "  loss_train = []\n",
        "  loss_valid = []\n",
        "  epoch = 0"
      ],
      "execution_count": 0,
      "outputs": []
    },
    {
      "cell_type": "markdown",
      "metadata": {
        "id": "rZLmEfJAyNVa",
        "colab_type": "text"
      },
      "source": [
        "# Training and validation loop"
      ]
    },
    {
      "cell_type": "code",
      "metadata": {
        "colab_type": "code",
        "id": "6zQaAWNlcBK-",
        "colab": {}
      },
      "source": [
        "trainloss=0\n",
        "validloss=0\n",
        "\n",
        "# Monitor validloss\n",
        "early_stopping = EarlyStopping('validloss', patience = 4)\n",
        "\n",
        "while epoch < num_epoch:\n",
        "    \n",
        "  \"\"\"Training\"\"\"\n",
        "  for local_batch, local_labels in tqdm(training_generator): \n",
        "    model.zero_grad()\n",
        "    \"\"\"Forward Function Implementation\"\"\"\n",
        "    input_ids = tokenizer.batch_encode_plus(local_batch, return_tensors=\"pt\",pad_to_max_length=True)\n",
        "    label = tokenizer.batch_encode_plus(local_labels, return_tensors=\"pt\",pad_to_max_length=True)\n",
        "    outputs = model(input_ids=(input_ids['input_ids']).to(device), lm_labels=(label['input_ids']).to(device),attention_mask=(input_ids['attention_mask']).to(device))\n",
        "    loss = outputs[0]\n",
        "    trainloss=loss\n",
        "    \"\"\"Forward Function Ends here\"\"\"\n",
        "    loss_train.append(trainloss)\n",
        "    \"\"\"Loss and optimizer\"\"\"\n",
        "    loss.backward()\n",
        "    optimizer.step()\n",
        "\n",
        "\n",
        "  \"\"\"Validation\"\"\"\n",
        "  with torch.set_grad_enabled(False):\n",
        "    for local_batch, local_labels in tqdm(validation_generator):\n",
        "      input_ids = tokenizer.batch_encode_plus(local_batch, return_tensors=\"pt\",pad_to_max_length=True)\n",
        "      label = tokenizer.batch_encode_plus(local_labels, return_tensors=\"pt\",pad_to_max_length=True)\n",
        "      model.eval()\n",
        "      outputs = model(input_ids=(input_ids['input_ids']).to(device), lm_labels=(label['input_ids']).to(device))\n",
        "      loss = outputs[0]\n",
        "      validloss += loss\n",
        "  loss_valid.append(validloss / len(validation_generator))\n",
        "  print(\"\\nEpoch \", epoch, \" completed!, Train LOSS is: \", trainloss, \" Valid loss is: \", validloss/len(validation_generator))\n",
        "  \n",
        "  \"\"\"Early Stopping condition\"\"\"\n",
        "  trainer = Trainer(early_stop_callback=early_stopping)\n",
        "\n",
        "  \"\"\"Save states\"\"\"\n",
        "  states = {\n",
        "          'epoch': epoch + 1,\n",
        "          'state_dict': model.state_dict(),\n",
        "          'optimizer': optimizer.state_dict(),\n",
        "          'trainloss': loss_train,\n",
        "          'validloss': loss_val,\n",
        "          'trainer': trainer\n",
        "      }\n",
        "  torch.save(states, folder_name)\n",
        "\n",
        "  epoch += 1"
      ],
      "execution_count": 0,
      "outputs": []
    },
    {
      "cell_type": "code",
      "metadata": {
        "colab_type": "code",
        "id": "5pxbcJIEhUcL",
        "colab": {}
      },
      "source": [
        "plt.plot(loss_train)\n",
        "plt.show()\n",
        "plt.plot(loss_valid)"
      ],
      "execution_count": 0,
      "outputs": []
    }
  ]
}